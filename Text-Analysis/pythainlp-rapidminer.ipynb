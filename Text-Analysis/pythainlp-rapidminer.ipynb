{
 "cells": [
  {
   "cell_type": "code",
   "execution_count": 235,
   "metadata": {},
   "outputs": [],
   "source": [
    "import pandas as pd\n",
    "from pythainlp.tokenize import word_tokenize\n",
    "import csv\n",
    "import re\n",
    "\n",
    "def rm_main(data):\n",
    "    #data = data.sample(frac=0.01)\n",
    "    \n",
    "    class_select = [\"pos\", \"neu\", \"neg\", \"q\"]\n",
    "    data = data[data['Category'].isin(class_select)]\n",
    "    \n",
    "\n",
    "    docs = [row['texts'] for index,row in data.iterrows()]\n",
    "    \n",
    "    i=0\n",
    "    words = ['']*data.shape[0]\n",
    "    for sentence in docs:\n",
    "        words[i] = ' '.join(word_tokenize(re.sub(\"[^\\u0E00-\\u0E7Fa-zA-Z0-9']\", ' ', sentence),engine='newmm'))\n",
    "        i = i+1\n",
    "    \n",
    "    data = data.copy()\n",
    "    data.loc[:,'texts'] = words\n",
    "    \n",
    "    #data.to_csv(r'train_th_newmm.csv', \n",
    "    #              index = False, \n",
    "    #              sep=',',\n",
    "    #              quotechar='',\n",
    "    #              encoding='utf-8',\n",
    "    #              quoting=csv.QUOTE_NONE,\n",
    "    #              escapechar='\\\\')\n",
    "    \n",
    "    return data\n",
    "    "
   ]
  }
 ],
 "metadata": {
  "kernelspec": {
   "display_name": "Python 3",
   "language": "python",
   "name": "python3"
  },
  "language_info": {
   "codemirror_mode": {
    "name": "ipython",
    "version": 3
   },
   "file_extension": ".py",
   "mimetype": "text/x-python",
   "name": "python",
   "nbconvert_exporter": "python",
   "pygments_lexer": "ipython3",
   "version": "3.8.3"
  }
 },
 "nbformat": 4,
 "nbformat_minor": 4
}
